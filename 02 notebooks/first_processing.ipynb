{
 "cells": [
  {
   "cell_type": "code",
   "execution_count": 1,
   "id": "642535a9-3372-46e2-9b9b-e3286a379f2c",
   "metadata": {},
   "outputs": [],
   "source": [
    "import pandas as pd\n",
    "import numpy as np"
   ]
  },
  {
   "cell_type": "code",
   "execution_count": 2,
   "id": "c0607f12-57c9-4440-b56c-dddc1343f079",
   "metadata": {},
   "outputs": [],
   "source": [
    "raw_data_ = pd.read_excel(r\"C:\\Users\\Dani\\Dropbox\\Mein PC (dimotion-PC)\\Documents\\BA_data\\CCM_D_I_raw_2.xlsx\", converters = {\"ID\": str})"
   ]
  },
  {
   "cell_type": "code",
   "execution_count": 3,
   "id": "3b914981-52d6-4b04-9e0c-f5197ffb59e2",
   "metadata": {},
   "outputs": [],
   "source": [
    "raw_data = raw_data_"
   ]
  },
  {
   "cell_type": "code",
   "execution_count": 4,
   "id": "23a9c182-27b3-4192-bec8-9fa7cbbd8375",
   "metadata": {},
   "outputs": [
    {
     "data": {
      "text/plain": [
       "Index(['ID', 'GV_Key', 'Data Date', 'Fiscal Year', 'Fiscal Quarter',\n",
       "       'Industry Format',\n",
       "       'Level of Consolidation - Company Interim Descriptor',\n",
       "       'Population Source', 'Data Format', 'Ticker Symbol', 'Company Name',\n",
       "       'ISO Currency Code', 'Calendar Data Year and Quarter',\n",
       "       'Fiscal Data Year and Quarter', 'Final Date',\n",
       "       'Report Date of Quarterly Earnings', 'Assets - Total',\n",
       "       'Common/Ordinary Equity - Total', 'Cash',\n",
       "       'Common Shares Used to Calculate Earnings Per Share - Basic',\n",
       "       'Long-Term Debt - Total', 'Invested Capital - Total - Quarterly',\n",
       "       'Liabilities - Total', 'Net Income (Loss)',\n",
       "       'Operating Income After Depreciation - Quarterly',\n",
       "       'Operating Income Before Depreciation - Quarterly', 'Revenue - Total',\n",
       "       'Stockholders Equity - Total', 'Active/Inactive Status Marker',\n",
       "       'Market Value - Total', 'S&P Business Description',\n",
       "       'Current ISO Country Code - Headquarters',\n",
       "       'North American Industry Classification Code',\n",
       "       'Standard Industry Classification Code'],\n",
       "      dtype='object')"
      ]
     },
     "execution_count": 4,
     "metadata": {},
     "output_type": "execute_result"
    }
   ],
   "source": [
    "raw_data.columns"
   ]
  },
  {
   "cell_type": "code",
   "execution_count": 5,
   "id": "0d3234a1-8831-4701-939a-1bb6d6562d7f",
   "metadata": {},
   "outputs": [],
   "source": [
    "#choosing needed variables\n",
    "columns = ['GV_Key', 'Data Date', \n",
    "           'Ticker Symbol', 'Company Name',\n",
    "        'Calendar Data Year and Quarter',\n",
    "       'Fiscal Data Year and Quarter', 'Final Date', \n",
    "       'Report Date of Quarterly Earnings','Assets - Total',\n",
    "       'Cash',\n",
    "       'Common Shares Used to Calculate Earnings Per Share - Basic',\n",
    "       'Long-Term Debt - Total', 'Invested Capital - Total - Quarterly',\n",
    "       'Liabilities - Total', 'Net Income (Loss)',\n",
    "       'Operating Income After Depreciation - Quarterly',\n",
    "       'Operating Income Before Depreciation - Quarterly', 'Revenue - Total',\n",
    "       'Stockholders Equity - Total', 'Market Value - Total', \n",
    "           'Current ISO Country Code - Headquarters']\n",
    "raw_data = raw_data[columns]"
   ]
  },
  {
   "cell_type": "code",
   "execution_count": 6,
   "id": "7a2cb42f-111c-42fa-819a-011a94250215",
   "metadata": {},
   "outputs": [],
   "source": [
    "raw_data = raw_data.rename({'Data Date': 'Date_cal',\n",
    "                            'Operating Income After Depreciation - Quarterly': 'EBIT', \n",
    "                            'Operating Income Before Depreciation - Quarterly': 'EBITDA',\n",
    "                            'Assets - Total': 'Assets',\n",
    "                            'Long-Term Debt - Total': 'Long-Term Debt', \n",
    "                            'Invested Capital - Total - Quarterly' : 'Invested Capital',\n",
    "                            'Liabilities - Total': 'Liabilities', \n",
    "                            'Net Income (Loss)': 'Net Income',\n",
    "                            'Revenue - Total': 'Revenue',\n",
    "                            'Stockholders Equity - Total': 'Stockholders Equity', \n",
    "                            'Market Value - Total': 'Market Value',\n",
    "                            'Calendar Data Year and Quarter': 'Quarter',\n",
    "                            'Report Date of Quarterly Earnings': 'Date_rep',\n",
    "                            'Current ISO Country Code - Headquarters': 'HQ'}, axis = 1)"
   ]
  },
  {
   "cell_type": "code",
   "execution_count": 7,
   "id": "5afe939c-98ce-4f66-b4b6-2c3d6612936d",
   "metadata": {},
   "outputs": [
    {
     "data": {
      "text/html": [
       "<div>\n",
       "<style scoped>\n",
       "    .dataframe tbody tr th:only-of-type {\n",
       "        vertical-align: middle;\n",
       "    }\n",
       "\n",
       "    .dataframe tbody tr th {\n",
       "        vertical-align: top;\n",
       "    }\n",
       "\n",
       "    .dataframe thead th {\n",
       "        text-align: right;\n",
       "    }\n",
       "</style>\n",
       "<table border=\"1\" class=\"dataframe\">\n",
       "  <thead>\n",
       "    <tr style=\"text-align: right;\">\n",
       "      <th></th>\n",
       "      <th>Assets</th>\n",
       "      <th>Cash</th>\n",
       "      <th>Common Shares Used to Calculate Earnings Per Share - Basic</th>\n",
       "      <th>Long-Term Debt</th>\n",
       "      <th>Invested Capital</th>\n",
       "      <th>Liabilities</th>\n",
       "      <th>Net Income</th>\n",
       "      <th>EBIT</th>\n",
       "      <th>EBITDA</th>\n",
       "      <th>Revenue</th>\n",
       "      <th>Stockholders Equity</th>\n",
       "      <th>Market Value</th>\n",
       "    </tr>\n",
       "  </thead>\n",
       "  <tbody>\n",
       "    <tr>\n",
       "      <th>count</th>\n",
       "      <td>9.992500e+04</td>\n",
       "      <td>91448.000000</td>\n",
       "      <td>101888.000000</td>\n",
       "      <td>99105.000000</td>\n",
       "      <td>99708.000000</td>\n",
       "      <td>9.987800e+04</td>\n",
       "      <td>100200.000000</td>\n",
       "      <td>99053.000000</td>\n",
       "      <td>92368.000000</td>\n",
       "      <td>91745.000000</td>\n",
       "      <td>99883.000000</td>\n",
       "      <td>9.186400e+04</td>\n",
       "    </tr>\n",
       "    <tr>\n",
       "      <th>mean</th>\n",
       "      <td>1.909339e+04</td>\n",
       "      <td>819.773255</td>\n",
       "      <td>221.096711</td>\n",
       "      <td>3356.881794</td>\n",
       "      <td>6981.335052</td>\n",
       "      <td>1.526897e+04</td>\n",
       "      <td>112.190599</td>\n",
       "      <td>200.588598</td>\n",
       "      <td>294.895398</td>\n",
       "      <td>1456.175065</td>\n",
       "      <td>3780.616968</td>\n",
       "      <td>9.496143e+03</td>\n",
       "    </tr>\n",
       "    <tr>\n",
       "      <th>std</th>\n",
       "      <td>1.283632e+05</td>\n",
       "      <td>4930.175335</td>\n",
       "      <td>805.806917</td>\n",
       "      <td>15298.070419</td>\n",
       "      <td>28936.487925</td>\n",
       "      <td>1.171026e+05</td>\n",
       "      <td>856.207781</td>\n",
       "      <td>1133.806382</td>\n",
       "      <td>1403.515156</td>\n",
       "      <td>6144.506621</td>\n",
       "      <td>16296.079786</td>\n",
       "      <td>5.403046e+04</td>\n",
       "    </tr>\n",
       "    <tr>\n",
       "      <th>min</th>\n",
       "      <td>0.000000e+00</td>\n",
       "      <td>0.000000</td>\n",
       "      <td>0.024000</td>\n",
       "      <td>-0.402000</td>\n",
       "      <td>-4493.000000</td>\n",
       "      <td>-8.700000e-02</td>\n",
       "      <td>-49746.000000</td>\n",
       "      <td>-62325.000000</td>\n",
       "      <td>-59740.000000</td>\n",
       "      <td>-30287.601000</td>\n",
       "      <td>-18075.000000</td>\n",
       "      <td>4.100000e-03</td>\n",
       "    </tr>\n",
       "    <tr>\n",
       "      <th>25%</th>\n",
       "      <td>2.147060e+02</td>\n",
       "      <td>19.406000</td>\n",
       "      <td>22.248750</td>\n",
       "      <td>7.219000</td>\n",
       "      <td>133.464750</td>\n",
       "      <td>7.060425e+01</td>\n",
       "      <td>-5.923000</td>\n",
       "      <td>-3.092000</td>\n",
       "      <td>-1.455000</td>\n",
       "      <td>14.114000</td>\n",
       "      <td>78.370500</td>\n",
       "      <td>1.805305e+02</td>\n",
       "    </tr>\n",
       "    <tr>\n",
       "      <th>50%</th>\n",
       "      <td>1.252635e+03</td>\n",
       "      <td>86.751500</td>\n",
       "      <td>51.726500</td>\n",
       "      <td>180.204000</td>\n",
       "      <td>724.403000</td>\n",
       "      <td>6.666420e+02</td>\n",
       "      <td>3.519000</td>\n",
       "      <td>9.756000</td>\n",
       "      <td>16.666500</td>\n",
       "      <td>133.685000</td>\n",
       "      <td>402.747000</td>\n",
       "      <td>9.226805e+02</td>\n",
       "    </tr>\n",
       "    <tr>\n",
       "      <th>75%</th>\n",
       "      <td>5.739360e+03</td>\n",
       "      <td>343.300250</td>\n",
       "      <td>138.979500</td>\n",
       "      <td>1445.297000</td>\n",
       "      <td>3349.706000</td>\n",
       "      <td>3.717990e+03</td>\n",
       "      <td>45.385000</td>\n",
       "      <td>80.551000</td>\n",
       "      <td>118.655500</td>\n",
       "      <td>677.100000</td>\n",
       "      <td>1698.609500</td>\n",
       "      <td>4.090176e+03</td>\n",
       "    </tr>\n",
       "    <tr>\n",
       "      <th>max</th>\n",
       "      <td>3.954687e+06</td>\n",
       "      <td>288606.000000</td>\n",
       "      <td>20183.000000</td>\n",
       "      <td>338564.096000</td>\n",
       "      <td>634371.000000</td>\n",
       "      <td>3.668788e+06</td>\n",
       "      <td>47840.226000</td>\n",
       "      <td>49723.000000</td>\n",
       "      <td>52428.000000</td>\n",
       "      <td>152871.000000</td>\n",
       "      <td>516865.000000</td>\n",
       "      <td>2.901645e+06</td>\n",
       "    </tr>\n",
       "  </tbody>\n",
       "</table>\n",
       "</div>"
      ],
      "text/plain": [
       "             Assets           Cash  \\\n",
       "count  9.992500e+04   91448.000000   \n",
       "mean   1.909339e+04     819.773255   \n",
       "std    1.283632e+05    4930.175335   \n",
       "min    0.000000e+00       0.000000   \n",
       "25%    2.147060e+02      19.406000   \n",
       "50%    1.252635e+03      86.751500   \n",
       "75%    5.739360e+03     343.300250   \n",
       "max    3.954687e+06  288606.000000   \n",
       "\n",
       "       Common Shares Used to Calculate Earnings Per Share - Basic  \\\n",
       "count                                      101888.000000            \n",
       "mean                                          221.096711            \n",
       "std                                           805.806917            \n",
       "min                                             0.024000            \n",
       "25%                                            22.248750            \n",
       "50%                                            51.726500            \n",
       "75%                                           138.979500            \n",
       "max                                         20183.000000            \n",
       "\n",
       "       Long-Term Debt  Invested Capital   Liabilities     Net Income  \\\n",
       "count    99105.000000      99708.000000  9.987800e+04  100200.000000   \n",
       "mean      3356.881794       6981.335052  1.526897e+04     112.190599   \n",
       "std      15298.070419      28936.487925  1.171026e+05     856.207781   \n",
       "min         -0.402000      -4493.000000 -8.700000e-02  -49746.000000   \n",
       "25%          7.219000        133.464750  7.060425e+01      -5.923000   \n",
       "50%        180.204000        724.403000  6.666420e+02       3.519000   \n",
       "75%       1445.297000       3349.706000  3.717990e+03      45.385000   \n",
       "max     338564.096000     634371.000000  3.668788e+06   47840.226000   \n",
       "\n",
       "               EBIT        EBITDA        Revenue  Stockholders Equity  \\\n",
       "count  99053.000000  92368.000000   91745.000000         99883.000000   \n",
       "mean     200.588598    294.895398    1456.175065          3780.616968   \n",
       "std     1133.806382   1403.515156    6144.506621         16296.079786   \n",
       "min   -62325.000000 -59740.000000  -30287.601000        -18075.000000   \n",
       "25%       -3.092000     -1.455000      14.114000            78.370500   \n",
       "50%        9.756000     16.666500     133.685000           402.747000   \n",
       "75%       80.551000    118.655500     677.100000          1698.609500   \n",
       "max    49723.000000  52428.000000  152871.000000        516865.000000   \n",
       "\n",
       "       Market Value  \n",
       "count  9.186400e+04  \n",
       "mean   9.496143e+03  \n",
       "std    5.403046e+04  \n",
       "min    4.100000e-03  \n",
       "25%    1.805305e+02  \n",
       "50%    9.226805e+02  \n",
       "75%    4.090176e+03  \n",
       "max    2.901645e+06  "
      ]
     },
     "execution_count": 7,
     "metadata": {},
     "output_type": "execute_result"
    }
   ],
   "source": [
    "raw_data.describe()"
   ]
  },
  {
   "cell_type": "code",
   "execution_count": 8,
   "id": "ec02501d-86fc-4b22-9962-97fcc26d9e5d",
   "metadata": {},
   "outputs": [
    {
     "name": "stdout",
     "output_type": "stream",
     "text": [
      "<class 'pandas.core.frame.DataFrame'>\n",
      "RangeIndex: 111120 entries, 0 to 111119\n",
      "Data columns (total 21 columns):\n",
      " #   Column                                                      Non-Null Count   Dtype         \n",
      "---  ------                                                      --------------   -----         \n",
      " 0   GV_Key                                                      111120 non-null  object        \n",
      " 1   Date_cal                                                    111120 non-null  datetime64[ns]\n",
      " 2   Ticker Symbol                                               111118 non-null  object        \n",
      " 3   Company Name                                                111120 non-null  object        \n",
      " 4   Quarter                                                     110958 non-null  object        \n",
      " 5   Fiscal Data Year and Quarter                                111100 non-null  object        \n",
      " 6   Final Date                                                  102010 non-null  datetime64[ns]\n",
      " 7   Date_rep                                                    100020 non-null  datetime64[ns]\n",
      " 8   Assets                                                      99925 non-null   float64       \n",
      " 9   Cash                                                        91448 non-null   float64       \n",
      " 10  Common Shares Used to Calculate Earnings Per Share - Basic  101888 non-null  float64       \n",
      " 11  Long-Term Debt                                              99105 non-null   float64       \n",
      " 12  Invested Capital                                            99708 non-null   float64       \n",
      " 13  Liabilities                                                 99878 non-null   float64       \n",
      " 14  Net Income                                                  100200 non-null  float64       \n",
      " 15  EBIT                                                        99053 non-null   float64       \n",
      " 16  EBITDA                                                      92368 non-null   float64       \n",
      " 17  Revenue                                                     91745 non-null   float64       \n",
      " 18  Stockholders Equity                                         99883 non-null   float64       \n",
      " 19  Market Value                                                91864 non-null   float64       \n",
      " 20  HQ                                                          111120 non-null  object        \n",
      "dtypes: datetime64[ns](3), float64(12), object(6)\n",
      "memory usage: 17.8+ MB\n"
     ]
    }
   ],
   "source": [
    "raw_data.info()"
   ]
  },
  {
   "cell_type": "code",
   "execution_count": 9,
   "id": "ca0ce1f9-887e-4de5-b179-271e845c6dd8",
   "metadata": {},
   "outputs": [],
   "source": [
    "indices_to_drop = raw_data[(raw_data.Quarter == '2016Q4') | (raw_data.Quarter.isna()) | (raw_data.loc[:,\"Date_rep\"].isna())].GV_Key\n",
    "raw_data = raw_data.set_index('GV_Key')"
   ]
  },
  {
   "cell_type": "code",
   "execution_count": 10,
   "id": "a6b1c927-199e-4a86-ad75-220a200c01e4",
   "metadata": {},
   "outputs": [],
   "source": [
    "#drop quarters before 2017\n",
    "raw_data = raw_data.drop(indices_to_drop, axis = 0)"
   ]
  },
  {
   "cell_type": "code",
   "execution_count": 11,
   "id": "4af2abb4-30d5-462f-ae6a-cc7ee4a4651a",
   "metadata": {},
   "outputs": [],
   "source": [
    "raw_data = raw_data.reset_index()"
   ]
  },
  {
   "cell_type": "code",
   "execution_count": 12,
   "id": "65e29e8e-8c15-41cc-b109-760bb9f9444a",
   "metadata": {},
   "outputs": [
    {
     "data": {
      "text/plain": [
       "4868"
      ]
     },
     "execution_count": 12,
     "metadata": {},
     "output_type": "execute_result"
    }
   ],
   "source": [
    "#check total number of companies\n",
    "len(raw_data.GV_Key.unique().tolist())"
   ]
  },
  {
   "cell_type": "code",
   "execution_count": 13,
   "id": "8f31834c-1144-4d6f-afe6-68e1a7b2cd22",
   "metadata": {},
   "outputs": [],
   "source": [
    "#NA removal: if more than 10% of a company's revenues are missing (across all 24 quarters), then the whole company is removed\n",
    "raw_data['is_na'] = np.where(\n",
    "    (raw_data.Revenue.isna() | raw_data.Revenue == 0 |\n",
    "     raw_data.EBITDA.isna() | \n",
    "     raw_data.EBIT.isna() | \n",
    "     raw_data.Cash.isna() | \n",
    "     raw_data.loc[:,\"Net Income\"].isna() |\n",
    "     raw_data.loc[:,\"Long-Term Debt\"].isna()), \n",
    "     1, 0)"
   ]
  },
  {
   "cell_type": "code",
   "execution_count": 14,
   "id": "91dceff2-7ff0-4cdd-94f9-e98a87bce151",
   "metadata": {},
   "outputs": [],
   "source": [
    "threshold_per = 0.9\n",
    "threshold = len(raw_data.Quarter.unique()) * (1- threshold_per)\n",
    "GV_na = []\n",
    "group = raw_data.groupby(['GV_Key'])['is_na'].sum()\n",
    "for indx, values in group.apply(lambda x: x > threshold).items():\n",
    "    if values == True:\n",
    "        GV_na.append(indx)\n",
    "#group.apply(lambda x: x > 0)\n",
    "#raw_data[raw_data.Revenue.isna()]"
   ]
  },
  {
   "cell_type": "code",
   "execution_count": 15,
   "id": "29d54056-2c3b-4aab-8a45-b29b45ab9931",
   "metadata": {},
   "outputs": [
    {
     "data": {
      "text/plain": [
       "921"
      ]
     },
     "execution_count": 15,
     "metadata": {},
     "output_type": "execute_result"
    }
   ],
   "source": [
    "#number of companies to be removed due to too many NAs\n",
    "len(GV_na)"
   ]
  },
  {
   "cell_type": "code",
   "execution_count": 16,
   "id": "9102ecac-fc50-471e-99d0-c0a3b5a1d97b",
   "metadata": {},
   "outputs": [],
   "source": [
    "raw_data = raw_data.set_index('GV_Key')\n",
    "raw_data = raw_data.drop(GV_na, axis = 0)"
   ]
  },
  {
   "cell_type": "code",
   "execution_count": 17,
   "id": "b1bb19d2-188f-4ca1-aa9e-ab379c31d46b",
   "metadata": {},
   "outputs": [],
   "source": [
    "raw_data = raw_data.reset_index()"
   ]
  },
  {
   "cell_type": "code",
   "execution_count": 18,
   "id": "eae7bc49-7664-49de-8de0-c99d91773df9",
   "metadata": {},
   "outputs": [
    {
     "data": {
      "text/plain": [
       "3947"
      ]
     },
     "execution_count": 18,
     "metadata": {},
     "output_type": "execute_result"
    }
   ],
   "source": [
    "#check total number of companies\n",
    "len(raw_data.GV_Key.unique().tolist())"
   ]
  },
  {
   "cell_type": "code",
   "execution_count": 19,
   "id": "615e0c3c-d38e-42bc-9c5d-d9c25a15fe1b",
   "metadata": {},
   "outputs": [
    {
     "data": {
      "text/plain": [
       "46"
      ]
     },
     "execution_count": 19,
     "metadata": {},
     "output_type": "execute_result"
    }
   ],
   "source": [
    "len(raw_data[raw_data.Revenue.isna()])"
   ]
  },
  {
   "cell_type": "code",
   "execution_count": 20,
   "id": "5be04926-2c24-4f4f-a60e-cfade338c5d4",
   "metadata": {},
   "outputs": [
    {
     "name": "stdout",
     "output_type": "stream",
     "text": [
      "<class 'pandas.core.frame.DataFrame'>\n",
      "RangeIndex: 71977 entries, 0 to 71976\n",
      "Data columns (total 22 columns):\n",
      " #   Column                                                      Non-Null Count  Dtype         \n",
      "---  ------                                                      --------------  -----         \n",
      " 0   GV_Key                                                      71977 non-null  object        \n",
      " 1   Date_cal                                                    71977 non-null  datetime64[ns]\n",
      " 2   Ticker Symbol                                               71975 non-null  object        \n",
      " 3   Company Name                                                71977 non-null  object        \n",
      " 4   Quarter                                                     71977 non-null  object        \n",
      " 5   Fiscal Data Year and Quarter                                71971 non-null  object        \n",
      " 6   Final Date                                                  71967 non-null  datetime64[ns]\n",
      " 7   Date_rep                                                    71977 non-null  datetime64[ns]\n",
      " 8   Assets                                                      71973 non-null  float64       \n",
      " 9   Cash                                                        71974 non-null  float64       \n",
      " 10  Common Shares Used to Calculate Earnings Per Share - Basic  71912 non-null  float64       \n",
      " 11  Long-Term Debt                                              71922 non-null  float64       \n",
      " 12  Invested Capital                                            71971 non-null  float64       \n",
      " 13  Liabilities                                                 71973 non-null  float64       \n",
      " 14  Net Income                                                  71941 non-null  float64       \n",
      " 15  EBIT                                                        71868 non-null  float64       \n",
      " 16  EBITDA                                                      71819 non-null  float64       \n",
      " 17  Revenue                                                     71931 non-null  float64       \n",
      " 18  Stockholders Equity                                         71973 non-null  float64       \n",
      " 19  Market Value                                                68253 non-null  float64       \n",
      " 20  HQ                                                          71977 non-null  object        \n",
      " 21  is_na                                                       71977 non-null  int32         \n",
      "dtypes: datetime64[ns](3), float64(12), int32(1), object(6)\n",
      "memory usage: 11.8+ MB\n"
     ]
    }
   ],
   "source": [
    "raw_data.info()"
   ]
  },
  {
   "cell_type": "code",
   "execution_count": 21,
   "id": "eef375cb-6f7c-4f9f-a597-5fab58366b77",
   "metadata": {},
   "outputs": [
    {
     "data": {
      "text/plain": [
       "Index(['GV_Key', 'Date_cal', 'Ticker Symbol', 'Company Name', 'Quarter',\n",
       "       'Fiscal Data Year and Quarter', 'Final Date', 'Date_rep', 'Assets',\n",
       "       'Cash', 'Common Shares Used to Calculate Earnings Per Share - Basic',\n",
       "       'Long-Term Debt', 'Invested Capital', 'Liabilities', 'Net Income',\n",
       "       'EBIT', 'EBITDA', 'Revenue', 'Stockholders Equity', 'Market Value',\n",
       "       'HQ', 'is_na'],\n",
       "      dtype='object')"
      ]
     },
     "execution_count": 21,
     "metadata": {},
     "output_type": "execute_result"
    }
   ],
   "source": [
    "raw_data.columns"
   ]
  },
  {
   "cell_type": "code",
   "execution_count": 22,
   "id": "60e53e55-c63b-4b10-b05d-3b3b5b91de1b",
   "metadata": {},
   "outputs": [],
   "source": [
    "#think about filling na values with mean of adjacent values of the corresponding column\n",
    "cols_to_interpolate = ['Assets',\n",
    "       'Cash', 'Common Shares Used to Calculate Earnings Per Share - Basic',\n",
    "       'Long-Term Debt', 'Invested Capital', 'Liabilities', 'Net Income',\n",
    "       'EBIT', 'EBITDA', 'Revenue', 'Stockholders Equity']\n",
    "raw_data[cols_to_interpolate] = raw_data[cols_to_interpolate].interpolate(method = 'linear')"
   ]
  },
  {
   "cell_type": "code",
   "execution_count": 23,
   "id": "9e81487f-69cf-4113-9e29-f4519571105e",
   "metadata": {},
   "outputs": [],
   "source": [
    "raw_data['is_na'] = np.where(\n",
    "    (raw_data.Revenue.isna() | \n",
    "     raw_data.EBITDA.isna() | \n",
    "     raw_data.EBIT.isna() | \n",
    "     raw_data.Cash.isna() | \n",
    "     raw_data.loc[:,\"Net Income\"].isna() |\n",
    "     raw_data.loc[:,\"Long-Term Debt\"].isna()), \n",
    "     1, 0)"
   ]
  },
  {
   "cell_type": "code",
   "execution_count": 24,
   "id": "dd2383bd-7f64-4a4c-8ba3-22e1103b9baf",
   "metadata": {},
   "outputs": [],
   "source": [
    "raw_data = raw_data.reset_index()"
   ]
  },
  {
   "cell_type": "code",
   "execution_count": 25,
   "id": "846e49b2-5452-4371-92f8-e0d13493c6d6",
   "metadata": {},
   "outputs": [],
   "source": [
    "indx_to_drop = raw_data[raw_data.is_na == 1].GV_Key\n",
    "raw_data = raw_data.set_index('GV_Key')\n",
    "raw_data = raw_data.drop(indx_to_drop, axis = 0)\n",
    "raw_data = raw_data.reset_index()"
   ]
  },
  {
   "cell_type": "code",
   "execution_count": 26,
   "id": "2e14bab6-0e11-4059-a6d3-73b5306aff8b",
   "metadata": {},
   "outputs": [
    {
     "data": {
      "text/plain": [
       "0"
      ]
     },
     "execution_count": 26,
     "metadata": {},
     "output_type": "execute_result"
    }
   ],
   "source": [
    "len(raw_data[raw_data.Revenue.isna()])"
   ]
  },
  {
   "cell_type": "code",
   "execution_count": 27,
   "id": "5ff23ac3-832d-4ad0-a6f3-2b3c5eacf64b",
   "metadata": {},
   "outputs": [
    {
     "name": "stdout",
     "output_type": "stream",
     "text": [
      "<class 'pandas.core.frame.DataFrame'>\n",
      "RangeIndex: 71953 entries, 0 to 71952\n",
      "Data columns (total 23 columns):\n",
      " #   Column                                                      Non-Null Count  Dtype         \n",
      "---  ------                                                      --------------  -----         \n",
      " 0   GV_Key                                                      71953 non-null  object        \n",
      " 1   index                                                       71953 non-null  int64         \n",
      " 2   Date_cal                                                    71953 non-null  datetime64[ns]\n",
      " 3   Ticker Symbol                                               71951 non-null  object        \n",
      " 4   Company Name                                                71953 non-null  object        \n",
      " 5   Quarter                                                     71953 non-null  object        \n",
      " 6   Fiscal Data Year and Quarter                                71947 non-null  object        \n",
      " 7   Final Date                                                  71943 non-null  datetime64[ns]\n",
      " 8   Date_rep                                                    71953 non-null  datetime64[ns]\n",
      " 9   Assets                                                      71953 non-null  float64       \n",
      " 10  Cash                                                        71953 non-null  float64       \n",
      " 11  Common Shares Used to Calculate Earnings Per Share - Basic  71953 non-null  float64       \n",
      " 12  Long-Term Debt                                              71953 non-null  float64       \n",
      " 13  Invested Capital                                            71953 non-null  float64       \n",
      " 14  Liabilities                                                 71953 non-null  float64       \n",
      " 15  Net Income                                                  71953 non-null  float64       \n",
      " 16  EBIT                                                        71953 non-null  float64       \n",
      " 17  EBITDA                                                      71953 non-null  float64       \n",
      " 18  Revenue                                                     71953 non-null  float64       \n",
      " 19  Stockholders Equity                                         71953 non-null  float64       \n",
      " 20  Market Value                                                68229 non-null  float64       \n",
      " 21  HQ                                                          71953 non-null  object        \n",
      " 22  is_na                                                       71953 non-null  int32         \n",
      "dtypes: datetime64[ns](3), float64(12), int32(1), int64(1), object(6)\n",
      "memory usage: 12.4+ MB\n"
     ]
    }
   ],
   "source": [
    "raw_data.info()"
   ]
  },
  {
   "cell_type": "code",
   "execution_count": 28,
   "id": "2cd3c9dd-6f4e-4bda-82d9-ecf1553c45ba",
   "metadata": {},
   "outputs": [
    {
     "data": {
      "text/plain": [
       "Index(['GV_Key', 'index', 'Date_cal', 'Ticker Symbol', 'Company Name',\n",
       "       'Quarter', 'Fiscal Data Year and Quarter', 'Final Date', 'Date_rep',\n",
       "       'Assets', 'Cash',\n",
       "       'Common Shares Used to Calculate Earnings Per Share - Basic',\n",
       "       'Long-Term Debt', 'Invested Capital', 'Liabilities', 'Net Income',\n",
       "       'EBIT', 'EBITDA', 'Revenue', 'Stockholders Equity', 'Market Value',\n",
       "       'HQ', 'is_na'],\n",
       "      dtype='object')"
      ]
     },
     "execution_count": 28,
     "metadata": {},
     "output_type": "execute_result"
    }
   ],
   "source": [
    "raw_data.columns"
   ]
  },
  {
   "cell_type": "code",
   "execution_count": 29,
   "id": "8214ef55-e349-4ecd-885f-60022cc0cff4",
   "metadata": {},
   "outputs": [
    {
     "name": "stderr",
     "output_type": "stream",
     "text": [
      "C:\\Users\\Dani\\AppData\\Local\\Temp\\ipykernel_60856\\3452779066.py:2: UserWarning: Pandas doesn't allow columns to be created via a new attribute name - see https://pandas.pydata.org/pandas-docs/stable/indexing.html#attribute-access\n",
      "  raw_data.GV_Key_ = raw_data.GV_Key\n"
     ]
    }
   ],
   "source": [
    "#preparing data such that missing variables can be retrieved from CIQ\n",
    "raw_data.GV_Key_ = raw_data.GV_Key\n",
    "raw_data.GV_Key = raw_data.GV_Key_.str[0:2] + \"_\" + raw_data.GV_Key_.str[-6:]\n",
    "#raw_data.drop(\"GV_Key_\", axis = 1, inplace = True)\n",
    "#columns needed: Share Price, Market Cap, Industry Classification (Primary Industry), 5-yr Beta"
   ]
  },
  {
   "cell_type": "code",
   "execution_count": 30,
   "id": "2b2a9e3b-781b-4ca1-9e92-5d84688ffdb5",
   "metadata": {},
   "outputs": [],
   "source": [
    "raw_data.to_clipboard()"
   ]
  },
  {
   "cell_type": "code",
   "execution_count": 122,
   "id": "928ac04b-f769-49d0-af48-995a4bb70ced",
   "metadata": {},
   "outputs": [],
   "source": [
    "data = raw_data\n",
    "output_name = \"\\CCM_D_I_cleaned.xlsx\"\n",
    "data.to_excel(fr\"C:\\Users\\Dani\\Dropbox\\Mein PC (dimotion-PC)\\Documents\\BA_data{output_name}\")"
   ]
  },
  {
   "cell_type": "code",
   "execution_count": null,
   "id": "62150a07-b1d1-4a44-9991-a2aaeb113b24",
   "metadata": {},
   "outputs": [],
   "source": []
  }
 ],
 "metadata": {
  "kernelspec": {
   "display_name": "Python 3 (ipykernel)",
   "language": "python",
   "name": "python3"
  },
  "language_info": {
   "codemirror_mode": {
    "name": "ipython",
    "version": 3
   },
   "file_extension": ".py",
   "mimetype": "text/x-python",
   "name": "python",
   "nbconvert_exporter": "python",
   "pygments_lexer": "ipython3",
   "version": "3.9.13"
  }
 },
 "nbformat": 4,
 "nbformat_minor": 5
}
