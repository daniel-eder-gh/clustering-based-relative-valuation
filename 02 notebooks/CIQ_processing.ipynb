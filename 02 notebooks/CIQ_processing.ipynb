{
 "cells": [
  {
   "cell_type": "code",
   "execution_count": 22,
   "id": "866eaa71-2ccb-4794-8001-f73b642a173a",
   "metadata": {},
   "outputs": [],
   "source": [
    "import pandas as pd\n",
    "import numpy as np\n",
    "import matplotlib.pyplot as plt\n",
    "import seaborn as sns"
   ]
  },
  {
   "cell_type": "code",
   "execution_count": null,
   "id": "7cf902d4-f6bc-43d4-a71c-86d5d662c970",
   "metadata": {},
   "outputs": [],
   "source": [
    "raw_data_ = pd.read_excel(\"CCM_D_I_CIQ_raw_2.xlsx\")"
   ]
  },
  {
   "cell_type": "code",
   "execution_count": 3,
   "id": "99772b53-66b4-4b17-801c-42ae86312154",
   "metadata": {},
   "outputs": [],
   "source": [
    "raw_data = raw_data_"
   ]
  },
  {
   "cell_type": "code",
   "execution_count": 4,
   "id": "9296f2f6-7d74-4a13-b2b1-2ff1cfe84c62",
   "metadata": {},
   "outputs": [
    {
     "name": "stdout",
     "output_type": "stream",
     "text": [
      "<class 'pandas.core.frame.DataFrame'>\n",
      "RangeIndex: 71953 entries, 0 to 71952\n",
      "Data columns (total 38 columns):\n",
      " #   Column                                                      Non-Null Count  Dtype         \n",
      "---  ------                                                      --------------  -----         \n",
      " 0   GV_Key                                                      71953 non-null  object        \n",
      " 1   Date_cal                                                    71953 non-null  datetime64[ns]\n",
      " 2   Ticker Symbol                                               71927 non-null  object        \n",
      " 3   Company Name                                                71953 non-null  object        \n",
      " 4   Quarter                                                     71953 non-null  object        \n",
      " 5   Fiscal Data Year and Quarter                                71947 non-null  object        \n",
      " 6   Final Date                                                  71943 non-null  datetime64[ns]\n",
      " 7   Date_rep                                                    71953 non-null  datetime64[ns]\n",
      " 8   Assets                                                      71953 non-null  float64       \n",
      " 9   Cash                                                        71953 non-null  float64       \n",
      " 10  Common Shares Used to Calculate Earnings Per Share - Basic  71953 non-null  float64       \n",
      " 11  Long-Term Debt                                              71953 non-null  float64       \n",
      " 12  Invested Capital                                            71953 non-null  float64       \n",
      " 13  Liabilities                                                 71953 non-null  float64       \n",
      " 14  Net Income                                                  71953 non-null  float64       \n",
      " 15  EBIT                                                        71953 non-null  float64       \n",
      " 16  EBITDA                                                      71953 non-null  float64       \n",
      " 17  Revenue                                                     71953 non-null  float64       \n",
      " 18  Stockholders Equity                                         71953 non-null  float64       \n",
      " 19  Market Value                                                68229 non-null  float64       \n",
      " 20  HQ                                                          71953 non-null  object        \n",
      " 21  is_na                                                       71953 non-null  int64         \n",
      " 22  Share_Price                                                 71953 non-null  float64       \n",
      " 23  Share_Price_BD                                              71953 non-null  float64       \n",
      " 24  Div_Per_Share_Ann                                           71953 non-null  float64       \n",
      " 25  Div_Yield                                                   71953 non-null  float64       \n",
      " 26  Market_Cap                                                  71953 non-null  float64       \n",
      " 27  Beta_1Y                                                     71953 non-null  float64       \n",
      " 28  Beta_2Y                                                     71953 non-null  float64       \n",
      " 29  Beta_5Y                                                     71953 non-null  float64       \n",
      " 30  NI_1y_Growth                                                35263 non-null  float64       \n",
      " 31  NI_2y_Growth                                                37128 non-null  float64       \n",
      " 32  Rev_1y_Growth                                               71653 non-null  float64       \n",
      " 33  Rev_2y_Growth                                               71666 non-null  float64       \n",
      " 34  Primary Industry                                            71953 non-null  object        \n",
      " 35  Industry Sector                                             71953 non-null  object        \n",
      " 36  Industry Group                                              71953 non-null  object        \n",
      " 37  Industry                                                    71953 non-null  object        \n",
      "dtypes: datetime64[ns](3), float64(24), int64(1), object(10)\n",
      "memory usage: 20.9+ MB\n"
     ]
    }
   ],
   "source": [
    "raw_data.info()"
   ]
  },
  {
   "cell_type": "code",
   "execution_count": 5,
   "id": "25cdc468-84b8-4ae8-814f-c009161d57e3",
   "metadata": {},
   "outputs": [
    {
     "name": "stdout",
     "output_type": "stream",
     "text": [
      "6058\n"
     ]
    }
   ],
   "source": [
    "#check null values of columns Price, Market Cap and Betas, Revenues\n",
    "#drop Share Price NAs\n",
    "indices_to_drop = raw_data[(raw_data.Share_Price.isna()) | (raw_data.Share_Price == 0) | (raw_data.Market_Cap.isna()) | (raw_data.Revenue == 0)].GV_Key\n",
    "print(len(indices_to_drop))"
   ]
  },
  {
   "cell_type": "code",
   "execution_count": 6,
   "id": "da7b70c4",
   "metadata": {},
   "outputs": [],
   "source": [
    "raw_data = raw_data.set_index('GV_Key')\n",
    "raw_data = raw_data.drop(indices_to_drop, axis = 0)\n",
    "raw_data = raw_data.drop(['NI_1y_Growth', 'NI_2y_Growth'], axis = 1)\n",
    "raw_data = raw_data.reset_index()"
   ]
  },
  {
   "cell_type": "code",
   "execution_count": 7,
   "id": "9b04e4bb-e15d-4484-81c3-f55d0d32f722",
   "metadata": {},
   "outputs": [
    {
     "data": {
      "text/plain": [
       "Index(['GV_Key', 'Date_cal', 'Ticker Symbol', 'Company Name', 'Quarter',\n",
       "       'Fiscal Data Year and Quarter', 'Final Date', 'Date_rep', 'Assets',\n",
       "       'Cash', 'Common Shares Used to Calculate Earnings Per Share - Basic',\n",
       "       'Long-Term Debt', 'Invested Capital', 'Liabilities', 'Net Income',\n",
       "       'EBIT', 'EBITDA', 'Revenue', 'Stockholders Equity', 'Market Value',\n",
       "       'HQ', 'is_na', 'Share_Price', 'Share_Price_BD', 'Div_Per_Share_Ann',\n",
       "       'Div_Yield', 'Market_Cap', 'Beta_1Y', 'Beta_2Y', 'Beta_5Y',\n",
       "       'Rev_1y_Growth', 'Rev_2y_Growth', 'Primary Industry', 'Industry Sector',\n",
       "       'Industry Group', 'Industry'],\n",
       "      dtype='object')"
      ]
     },
     "execution_count": 7,
     "metadata": {},
     "output_type": "execute_result"
    }
   ],
   "source": [
    "raw_data.columns"
   ]
  },
  {
   "cell_type": "code",
   "execution_count": 8,
   "id": "0a781589-dce1-447a-94d5-dd3ad0066626",
   "metadata": {},
   "outputs": [],
   "source": [
    "#calculate all ratios, margins, metrics and multiples\n",
    "#raw_data[\"Shares_out\"] = raw_data[\"Market_Cap\"] / raw_data[\"Share_Price\"]\n",
    "raw_data[\"Shares_out\"] = raw_data[\"Common Shares Used to Calculate Earnings Per Share - Basic\"]\n",
    "raw_data[\"EBIT_Margin\"] = raw_data[\"EBIT\"] / raw_data[\"Revenue\"]\n",
    "raw_data[\"EBITDA_Margin\"] = raw_data[\"EBITDA\"] / raw_data[\"Revenue\"]\n",
    "raw_data[\"Profit_Margin\"] = raw_data[\"Net Income\"] / raw_data[\"Revenue\"]\n",
    "raw_data[\"Leverage\"] = raw_data[\"Long-Term Debt\"] / raw_data[\"Assets\"]\n",
    "raw_data[\"Debt/Assets\"] = raw_data[\"Liabilities\"] / raw_data[\"Assets\"]\n",
    "raw_data[\"Cash/Assets\"] = raw_data[\"Cash\"] / raw_data[\"Assets\"]\n",
    "raw_data[\"ROE\"] = raw_data[\"Net Income\"] / raw_data[\"Stockholders Equity\"]\n",
    "raw_data[\"P/B\"] = raw_data[\"Market_Cap\"] / raw_data[\"Stockholders Equity\"]\n",
    "raw_data[\"P/Sales\"] = raw_data[\"Share_Price\"] / (raw_data[\"Revenue\"] / raw_data[\"Shares_out\"])\n",
    "raw_data[\"P/EBITDA\"] = raw_data[\"Share_Price\"] / (raw_data[\"EBITDA\"] / raw_data[\"Shares_out\"])\n",
    "raw_data[\"P/EBIT\"] = raw_data[\"Share_Price\"] / (raw_data[\"EBIT\"] / raw_data[\"Shares_out\"])\n",
    "raw_data[\"P/E\"] = raw_data[\"Share_Price\"] / (raw_data[\"Net Income\"] / raw_data[\"Shares_out\"])\n",
    "raw_data[\"Rev_1y_Growth\"] = raw_data[\"Rev_1y_Growth\"]/100\n",
    "raw_data[\"Rev_2y_Growth\"] = raw_data[\"Rev_2y_Growth\"]/100\n",
    "\n",
    "#testing purposes\n",
    "#raw_data[\"P/E\"] = raw_data[\"Market_Cap\"] / raw_data[\"Net Income\"]"
   ]
  },
  {
   "cell_type": "code",
   "execution_count": 9,
   "id": "b2f82ba9-fae6-4c77-a8d6-62840c74d893",
   "metadata": {},
   "outputs": [],
   "source": [
    "raw_data = raw_data.drop(['Market Value', 'Common Shares Used to Calculate Earnings Per Share - Basic', 'is_na'], axis = 1)"
   ]
  },
  {
   "cell_type": "code",
   "execution_count": 10,
   "id": "128dddf2-7f57-4cb6-acbe-9906c4510d71",
   "metadata": {},
   "outputs": [
    {
     "data": {
      "text/plain": [
       "3279"
      ]
     },
     "execution_count": 10,
     "metadata": {},
     "output_type": "execute_result"
    }
   ],
   "source": [
    "#number of companies\n",
    "len(raw_data.GV_Key.unique().tolist())"
   ]
  },
  {
   "cell_type": "code",
   "execution_count": 11,
   "id": "bb9422f5-5da5-42ac-8d7b-caa618cb44c3",
   "metadata": {},
   "outputs": [],
   "source": [
    "num_cols = ['Assets',\n",
    "       'Cash', 'Long-Term Debt', 'Invested Capital', 'Liabilities',\n",
    "       'Net Income', 'EBIT', 'EBITDA', 'Revenue', 'Stockholders Equity',\n",
    "       'Share_Price', 'Div_Per_Share_Ann', 'Div_Yield', 'Market_Cap',\n",
    "       'Beta_1Y', 'Beta_2Y', 'Beta_5Y', 'Rev_1y_Growth', 'Rev_2y_Growth', 'Shares_out',\n",
    "       'EBIT_Margin', 'EBITDA_Margin', 'Profit_Margin', 'Leverage',\n",
    "       'Debt/Assets', 'Cash/Assets', 'ROE', 'P/B', 'P/Sales', 'P/EBITDA',\n",
    "       'P/EBIT', 'P/E']"
   ]
  },
  {
   "cell_type": "code",
   "execution_count": 12,
   "id": "15775a40-58a5-4612-a7a3-4049e041eb33",
   "metadata": {},
   "outputs": [
    {
     "data": {
      "text/html": [
       "<div>\n",
       "<style scoped>\n",
       "    .dataframe tbody tr th:only-of-type {\n",
       "        vertical-align: middle;\n",
       "    }\n",
       "\n",
       "    .dataframe tbody tr th {\n",
       "        vertical-align: top;\n",
       "    }\n",
       "\n",
       "    .dataframe thead th {\n",
       "        text-align: right;\n",
       "    }\n",
       "</style>\n",
       "<table border=\"1\" class=\"dataframe\">\n",
       "  <thead>\n",
       "    <tr style=\"text-align: right;\">\n",
       "      <th></th>\n",
       "      <th>count</th>\n",
       "      <th>mean</th>\n",
       "      <th>std</th>\n",
       "      <th>min</th>\n",
       "      <th>25%</th>\n",
       "      <th>50%</th>\n",
       "      <th>75%</th>\n",
       "      <th>max</th>\n",
       "    </tr>\n",
       "  </thead>\n",
       "  <tbody>\n",
       "    <tr>\n",
       "      <th>Assets</th>\n",
       "      <td>62535.0</td>\n",
       "      <td>1.359507e+04</td>\n",
       "      <td>6.886301e+04</td>\n",
       "      <td>8.170000e-01</td>\n",
       "      <td>307.731000</td>\n",
       "      <td>1452.734000</td>\n",
       "      <td>6134.968000</td>\n",
       "      <td>2.416676e+06</td>\n",
       "    </tr>\n",
       "    <tr>\n",
       "      <th>Cash</th>\n",
       "      <td>62535.0</td>\n",
       "      <td>9.503095e+02</td>\n",
       "      <td>5.636132e+03</td>\n",
       "      <td>0.000000e+00</td>\n",
       "      <td>23.750500</td>\n",
       "      <td>107.413000</td>\n",
       "      <td>413.703000</td>\n",
       "      <td>2.886060e+05</td>\n",
       "    </tr>\n",
       "    <tr>\n",
       "      <th>Long-Term Debt</th>\n",
       "      <td>62535.0</td>\n",
       "      <td>3.442712e+03</td>\n",
       "      <td>1.290991e+04</td>\n",
       "      <td>-4.020000e-01</td>\n",
       "      <td>20.850000</td>\n",
       "      <td>345.443000</td>\n",
       "      <td>1939.690000</td>\n",
       "      <td>2.829750e+05</td>\n",
       "    </tr>\n",
       "    <tr>\n",
       "      <th>Invested Capital</th>\n",
       "      <td>62535.0</td>\n",
       "      <td>7.450957e+03</td>\n",
       "      <td>2.727196e+04</td>\n",
       "      <td>-4.155651e+03</td>\n",
       "      <td>210.112500</td>\n",
       "      <td>1012.230000</td>\n",
       "      <td>4210.937000</td>\n",
       "      <td>6.343710e+05</td>\n",
       "    </tr>\n",
       "    <tr>\n",
       "      <th>Liabilities</th>\n",
       "      <td>62535.0</td>\n",
       "      <td>9.585699e+03</td>\n",
       "      <td>5.775845e+04</td>\n",
       "      <td>0.000000e+00</td>\n",
       "      <td>121.158000</td>\n",
       "      <td>767.513000</td>\n",
       "      <td>3861.371500</td>\n",
       "      <td>2.214838e+06</td>\n",
       "    </tr>\n",
       "    <tr>\n",
       "      <th>Net Income</th>\n",
       "      <td>62535.0</td>\n",
       "      <td>1.262190e+02</td>\n",
       "      <td>9.549427e+02</td>\n",
       "      <td>-4.974600e+04</td>\n",
       "      <td>-4.918000</td>\n",
       "      <td>6.075000</td>\n",
       "      <td>61.637000</td>\n",
       "      <td>3.964600e+04</td>\n",
       "    </tr>\n",
       "    <tr>\n",
       "      <th>EBIT</th>\n",
       "      <td>62535.0</td>\n",
       "      <td>2.107769e+02</td>\n",
       "      <td>1.131150e+03</td>\n",
       "      <td>-6.232500e+04</td>\n",
       "      <td>-1.489500</td>\n",
       "      <td>16.320000</td>\n",
       "      <td>107.500000</td>\n",
       "      <td>4.972300e+04</td>\n",
       "    </tr>\n",
       "    <tr>\n",
       "      <th>EBITDA</th>\n",
       "      <td>62535.0</td>\n",
       "      <td>3.164646e+02</td>\n",
       "      <td>1.408171e+03</td>\n",
       "      <td>-5.974000e+04</td>\n",
       "      <td>0.418000</td>\n",
       "      <td>30.060000</td>\n",
       "      <td>160.683500</td>\n",
       "      <td>5.242800e+04</td>\n",
       "    </tr>\n",
       "    <tr>\n",
       "      <th>Revenue</th>\n",
       "      <td>62535.0</td>\n",
       "      <td>1.666525e+03</td>\n",
       "      <td>6.459358e+03</td>\n",
       "      <td>-9.010000e+03</td>\n",
       "      <td>38.245500</td>\n",
       "      <td>211.817000</td>\n",
       "      <td>894.768500</td>\n",
       "      <td>1.492040e+05</td>\n",
       "    </tr>\n",
       "    <tr>\n",
       "      <th>Stockholders Equity</th>\n",
       "      <td>62535.0</td>\n",
       "      <td>3.989437e+03</td>\n",
       "      <td>1.667884e+04</td>\n",
       "      <td>-1.807500e+04</td>\n",
       "      <td>103.395500</td>\n",
       "      <td>527.092000</td>\n",
       "      <td>1970.954000</td>\n",
       "      <td>5.168650e+05</td>\n",
       "    </tr>\n",
       "    <tr>\n",
       "      <th>Share_Price</th>\n",
       "      <td>62535.0</td>\n",
       "      <td>3.195400e+03</td>\n",
       "      <td>3.712211e+05</td>\n",
       "      <td>1.670000e-02</td>\n",
       "      <td>9.447435</td>\n",
       "      <td>25.450000</td>\n",
       "      <td>61.061955</td>\n",
       "      <td>7.682620e+07</td>\n",
       "    </tr>\n",
       "    <tr>\n",
       "      <th>Div_Per_Share_Ann</th>\n",
       "      <td>62535.0</td>\n",
       "      <td>6.170532e-01</td>\n",
       "      <td>1.553056e+00</td>\n",
       "      <td>0.000000e+00</td>\n",
       "      <td>0.000000</td>\n",
       "      <td>0.000000</td>\n",
       "      <td>0.740000</td>\n",
       "      <td>5.409600e+01</td>\n",
       "    </tr>\n",
       "    <tr>\n",
       "      <th>Div_Yield</th>\n",
       "      <td>62535.0</td>\n",
       "      <td>1.406861e+00</td>\n",
       "      <td>2.917004e+00</td>\n",
       "      <td>0.000000e+00</td>\n",
       "      <td>0.000000</td>\n",
       "      <td>0.000000</td>\n",
       "      <td>1.801000</td>\n",
       "      <td>1.000000e+02</td>\n",
       "    </tr>\n",
       "    <tr>\n",
       "      <th>Market_Cap</th>\n",
       "      <td>62535.0</td>\n",
       "      <td>1.276745e+04</td>\n",
       "      <td>6.540845e+04</td>\n",
       "      <td>0.000000e+00</td>\n",
       "      <td>300.471240</td>\n",
       "      <td>1509.411710</td>\n",
       "      <td>6166.098830</td>\n",
       "      <td>2.652206e+06</td>\n",
       "    </tr>\n",
       "    <tr>\n",
       "      <th>Beta_1Y</th>\n",
       "      <td>62535.0</td>\n",
       "      <td>8.231049e-01</td>\n",
       "      <td>4.416376e+01</td>\n",
       "      <td>-9.396329e+03</td>\n",
       "      <td>0.667020</td>\n",
       "      <td>1.044250</td>\n",
       "      <td>1.476760</td>\n",
       "      <td>3.003426e+02</td>\n",
       "    </tr>\n",
       "    <tr>\n",
       "      <th>Beta_2Y</th>\n",
       "      <td>62535.0</td>\n",
       "      <td>1.102894e+00</td>\n",
       "      <td>4.433152e+01</td>\n",
       "      <td>-4.413036e+03</td>\n",
       "      <td>0.692815</td>\n",
       "      <td>1.049100</td>\n",
       "      <td>1.418170</td>\n",
       "      <td>6.265950e+03</td>\n",
       "    </tr>\n",
       "    <tr>\n",
       "      <th>Beta_5Y</th>\n",
       "      <td>62535.0</td>\n",
       "      <td>1.305376e+00</td>\n",
       "      <td>3.471243e+01</td>\n",
       "      <td>-3.308488e+03</td>\n",
       "      <td>0.576400</td>\n",
       "      <td>1.063700</td>\n",
       "      <td>1.525650</td>\n",
       "      <td>2.533398e+03</td>\n",
       "    </tr>\n",
       "    <tr>\n",
       "      <th>Rev_1y_Growth</th>\n",
       "      <td>62305.0</td>\n",
       "      <td>7.797315e-01</td>\n",
       "      <td>3.379998e+01</td>\n",
       "      <td>-9.996650e-01</td>\n",
       "      <td>-0.013334</td>\n",
       "      <td>0.081569</td>\n",
       "      <td>0.242269</td>\n",
       "      <td>5.716975e+03</td>\n",
       "    </tr>\n",
       "    <tr>\n",
       "      <th>Rev_2y_Growth</th>\n",
       "      <td>62304.0</td>\n",
       "      <td>1.829852e-01</td>\n",
       "      <td>1.299398e+00</td>\n",
       "      <td>-9.815610e-01</td>\n",
       "      <td>-0.004642</td>\n",
       "      <td>0.060309</td>\n",
       "      <td>0.182155</td>\n",
       "      <td>1.226001e+02</td>\n",
       "    </tr>\n",
       "    <tr>\n",
       "      <th>Shares_out</th>\n",
       "      <td>62535.0</td>\n",
       "      <td>2.145949e+02</td>\n",
       "      <td>6.060956e+02</td>\n",
       "      <td>3.400000e-01</td>\n",
       "      <td>26.369500</td>\n",
       "      <td>58.635000</td>\n",
       "      <td>156.498500</td>\n",
       "      <td>1.705762e+04</td>\n",
       "    </tr>\n",
       "    <tr>\n",
       "      <th>EBIT_Margin</th>\n",
       "      <td>62535.0</td>\n",
       "      <td>-5.180595e+00</td>\n",
       "      <td>1.827598e+02</td>\n",
       "      <td>-2.256267e+04</td>\n",
       "      <td>-0.045454</td>\n",
       "      <td>0.075812</td>\n",
       "      <td>0.177008</td>\n",
       "      <td>1.577000e+04</td>\n",
       "    </tr>\n",
       "    <tr>\n",
       "      <th>EBITDA_Margin</th>\n",
       "      <td>62535.0</td>\n",
       "      <td>-4.953439e+00</td>\n",
       "      <td>1.759159e+02</td>\n",
       "      <td>-2.102233e+04</td>\n",
       "      <td>0.014225</td>\n",
       "      <td>0.130962</td>\n",
       "      <td>0.261333</td>\n",
       "      <td>1.544900e+04</td>\n",
       "    </tr>\n",
       "    <tr>\n",
       "      <th>Profit_Margin</th>\n",
       "      <td>62535.0</td>\n",
       "      <td>-6.059320e+00</td>\n",
       "      <td>2.314910e+02</td>\n",
       "      <td>-3.359333e+04</td>\n",
       "      <td>-0.103872</td>\n",
       "      <td>0.037054</td>\n",
       "      <td>0.116613</td>\n",
       "      <td>1.511300e+04</td>\n",
       "    </tr>\n",
       "    <tr>\n",
       "      <th>Leverage</th>\n",
       "      <td>62535.0</td>\n",
       "      <td>2.788347e-01</td>\n",
       "      <td>1.527206e+00</td>\n",
       "      <td>-1.671004e-03</td>\n",
       "      <td>0.069800</td>\n",
       "      <td>0.236774</td>\n",
       "      <td>0.397151</td>\n",
       "      <td>3.347694e+02</td>\n",
       "    </tr>\n",
       "    <tr>\n",
       "      <th>Debt/Assets</th>\n",
       "      <td>62535.0</td>\n",
       "      <td>5.738625e-01</td>\n",
       "      <td>3.138228e-01</td>\n",
       "      <td>0.000000e+00</td>\n",
       "      <td>0.378736</td>\n",
       "      <td>0.561915</td>\n",
       "      <td>0.727055</td>\n",
       "      <td>8.544323e+00</td>\n",
       "    </tr>\n",
       "    <tr>\n",
       "      <th>Cash/Assets</th>\n",
       "      <td>62535.0</td>\n",
       "      <td>1.554263e-01</td>\n",
       "      <td>1.860288e-01</td>\n",
       "      <td>0.000000e+00</td>\n",
       "      <td>0.032661</td>\n",
       "      <td>0.087991</td>\n",
       "      <td>0.196799</td>\n",
       "      <td>1.000000e+00</td>\n",
       "    </tr>\n",
       "    <tr>\n",
       "      <th>ROE</th>\n",
       "      <td>62535.0</td>\n",
       "      <td>-7.758438e-03</td>\n",
       "      <td>5.607176e+00</td>\n",
       "      <td>-1.190227e+03</td>\n",
       "      <td>-0.031538</td>\n",
       "      <td>0.016013</td>\n",
       "      <td>0.046078</td>\n",
       "      <td>4.202500e+02</td>\n",
       "    </tr>\n",
       "    <tr>\n",
       "      <th>P/B</th>\n",
       "      <td>62535.0</td>\n",
       "      <td>5.350304e+00</td>\n",
       "      <td>4.969145e+02</td>\n",
       "      <td>-1.665607e+04</td>\n",
       "      <td>1.083607</td>\n",
       "      <td>2.163853</td>\n",
       "      <td>4.401299</td>\n",
       "      <td>1.200081e+05</td>\n",
       "    </tr>\n",
       "    <tr>\n",
       "      <th>P/Sales</th>\n",
       "      <td>62535.0</td>\n",
       "      <td>3.555705e+05</td>\n",
       "      <td>5.096761e+07</td>\n",
       "      <td>-1.571419e+05</td>\n",
       "      <td>3.280039</td>\n",
       "      <td>7.693088</td>\n",
       "      <td>20.277535</td>\n",
       "      <td>1.111675e+10</td>\n",
       "    </tr>\n",
       "    <tr>\n",
       "      <th>P/EBITDA</th>\n",
       "      <td>62535.0</td>\n",
       "      <td>inf</td>\n",
       "      <td>NaN</td>\n",
       "      <td>-6.221786e+08</td>\n",
       "      <td>3.880911</td>\n",
       "      <td>24.169001</td>\n",
       "      <td>52.017663</td>\n",
       "      <td>inf</td>\n",
       "    </tr>\n",
       "    <tr>\n",
       "      <th>P/EBIT</th>\n",
       "      <td>62535.0</td>\n",
       "      <td>inf</td>\n",
       "      <td>NaN</td>\n",
       "      <td>-6.150131e+08</td>\n",
       "      <td>-14.126220</td>\n",
       "      <td>28.861202</td>\n",
       "      <td>66.997792</td>\n",
       "      <td>inf</td>\n",
       "    </tr>\n",
       "    <tr>\n",
       "      <th>P/E</th>\n",
       "      <td>62535.0</td>\n",
       "      <td>inf</td>\n",
       "      <td>NaN</td>\n",
       "      <td>-1.455911e+09</td>\n",
       "      <td>-25.823950</td>\n",
       "      <td>33.208466</td>\n",
       "      <td>91.612608</td>\n",
       "      <td>inf</td>\n",
       "    </tr>\n",
       "  </tbody>\n",
       "</table>\n",
       "</div>"
      ],
      "text/plain": [
       "                       count          mean           std           min  \\\n",
       "Assets               62535.0  1.359507e+04  6.886301e+04  8.170000e-01   \n",
       "Cash                 62535.0  9.503095e+02  5.636132e+03  0.000000e+00   \n",
       "Long-Term Debt       62535.0  3.442712e+03  1.290991e+04 -4.020000e-01   \n",
       "Invested Capital     62535.0  7.450957e+03  2.727196e+04 -4.155651e+03   \n",
       "Liabilities          62535.0  9.585699e+03  5.775845e+04  0.000000e+00   \n",
       "Net Income           62535.0  1.262190e+02  9.549427e+02 -4.974600e+04   \n",
       "EBIT                 62535.0  2.107769e+02  1.131150e+03 -6.232500e+04   \n",
       "EBITDA               62535.0  3.164646e+02  1.408171e+03 -5.974000e+04   \n",
       "Revenue              62535.0  1.666525e+03  6.459358e+03 -9.010000e+03   \n",
       "Stockholders Equity  62535.0  3.989437e+03  1.667884e+04 -1.807500e+04   \n",
       "Share_Price          62535.0  3.195400e+03  3.712211e+05  1.670000e-02   \n",
       "Div_Per_Share_Ann    62535.0  6.170532e-01  1.553056e+00  0.000000e+00   \n",
       "Div_Yield            62535.0  1.406861e+00  2.917004e+00  0.000000e+00   \n",
       "Market_Cap           62535.0  1.276745e+04  6.540845e+04  0.000000e+00   \n",
       "Beta_1Y              62535.0  8.231049e-01  4.416376e+01 -9.396329e+03   \n",
       "Beta_2Y              62535.0  1.102894e+00  4.433152e+01 -4.413036e+03   \n",
       "Beta_5Y              62535.0  1.305376e+00  3.471243e+01 -3.308488e+03   \n",
       "Rev_1y_Growth        62305.0  7.797315e-01  3.379998e+01 -9.996650e-01   \n",
       "Rev_2y_Growth        62304.0  1.829852e-01  1.299398e+00 -9.815610e-01   \n",
       "Shares_out           62535.0  2.145949e+02  6.060956e+02  3.400000e-01   \n",
       "EBIT_Margin          62535.0 -5.180595e+00  1.827598e+02 -2.256267e+04   \n",
       "EBITDA_Margin        62535.0 -4.953439e+00  1.759159e+02 -2.102233e+04   \n",
       "Profit_Margin        62535.0 -6.059320e+00  2.314910e+02 -3.359333e+04   \n",
       "Leverage             62535.0  2.788347e-01  1.527206e+00 -1.671004e-03   \n",
       "Debt/Assets          62535.0  5.738625e-01  3.138228e-01  0.000000e+00   \n",
       "Cash/Assets          62535.0  1.554263e-01  1.860288e-01  0.000000e+00   \n",
       "ROE                  62535.0 -7.758438e-03  5.607176e+00 -1.190227e+03   \n",
       "P/B                  62535.0  5.350304e+00  4.969145e+02 -1.665607e+04   \n",
       "P/Sales              62535.0  3.555705e+05  5.096761e+07 -1.571419e+05   \n",
       "P/EBITDA             62535.0           inf           NaN -6.221786e+08   \n",
       "P/EBIT               62535.0           inf           NaN -6.150131e+08   \n",
       "P/E                  62535.0           inf           NaN -1.455911e+09   \n",
       "\n",
       "                            25%          50%          75%           max  \n",
       "Assets               307.731000  1452.734000  6134.968000  2.416676e+06  \n",
       "Cash                  23.750500   107.413000   413.703000  2.886060e+05  \n",
       "Long-Term Debt        20.850000   345.443000  1939.690000  2.829750e+05  \n",
       "Invested Capital     210.112500  1012.230000  4210.937000  6.343710e+05  \n",
       "Liabilities          121.158000   767.513000  3861.371500  2.214838e+06  \n",
       "Net Income            -4.918000     6.075000    61.637000  3.964600e+04  \n",
       "EBIT                  -1.489500    16.320000   107.500000  4.972300e+04  \n",
       "EBITDA                 0.418000    30.060000   160.683500  5.242800e+04  \n",
       "Revenue               38.245500   211.817000   894.768500  1.492040e+05  \n",
       "Stockholders Equity  103.395500   527.092000  1970.954000  5.168650e+05  \n",
       "Share_Price            9.447435    25.450000    61.061955  7.682620e+07  \n",
       "Div_Per_Share_Ann      0.000000     0.000000     0.740000  5.409600e+01  \n",
       "Div_Yield              0.000000     0.000000     1.801000  1.000000e+02  \n",
       "Market_Cap           300.471240  1509.411710  6166.098830  2.652206e+06  \n",
       "Beta_1Y                0.667020     1.044250     1.476760  3.003426e+02  \n",
       "Beta_2Y                0.692815     1.049100     1.418170  6.265950e+03  \n",
       "Beta_5Y                0.576400     1.063700     1.525650  2.533398e+03  \n",
       "Rev_1y_Growth         -0.013334     0.081569     0.242269  5.716975e+03  \n",
       "Rev_2y_Growth         -0.004642     0.060309     0.182155  1.226001e+02  \n",
       "Shares_out            26.369500    58.635000   156.498500  1.705762e+04  \n",
       "EBIT_Margin           -0.045454     0.075812     0.177008  1.577000e+04  \n",
       "EBITDA_Margin          0.014225     0.130962     0.261333  1.544900e+04  \n",
       "Profit_Margin         -0.103872     0.037054     0.116613  1.511300e+04  \n",
       "Leverage               0.069800     0.236774     0.397151  3.347694e+02  \n",
       "Debt/Assets            0.378736     0.561915     0.727055  8.544323e+00  \n",
       "Cash/Assets            0.032661     0.087991     0.196799  1.000000e+00  \n",
       "ROE                   -0.031538     0.016013     0.046078  4.202500e+02  \n",
       "P/B                    1.083607     2.163853     4.401299  1.200081e+05  \n",
       "P/Sales                3.280039     7.693088    20.277535  1.111675e+10  \n",
       "P/EBITDA               3.880911    24.169001    52.017663           inf  \n",
       "P/EBIT               -14.126220    28.861202    66.997792           inf  \n",
       "P/E                  -25.823950    33.208466    91.612608           inf  "
      ]
     },
     "execution_count": 12,
     "metadata": {},
     "output_type": "execute_result"
    }
   ],
   "source": [
    "raw_data[num_cols].describe().transpose()"
   ]
  },
  {
   "cell_type": "code",
   "execution_count": 13,
   "id": "547d3566-7e10-4168-8727-6cd7fa4afcc8",
   "metadata": {},
   "outputs": [
    {
     "data": {
      "text/plain": [
       "Index(['GV_Key', 'Date_cal', 'Ticker Symbol', 'Company Name', 'Quarter',\n",
       "       'Fiscal Data Year and Quarter', 'Final Date', 'Date_rep', 'Assets',\n",
       "       'Cash', 'Long-Term Debt', 'Invested Capital', 'Liabilities',\n",
       "       'Net Income', 'EBIT', 'EBITDA', 'Revenue', 'Stockholders Equity', 'HQ',\n",
       "       'Share_Price', 'Share_Price_BD', 'Div_Per_Share_Ann', 'Div_Yield',\n",
       "       'Market_Cap', 'Beta_1Y', 'Beta_2Y', 'Beta_5Y', 'Rev_1y_Growth',\n",
       "       'Rev_2y_Growth', 'Primary Industry', 'Industry Sector',\n",
       "       'Industry Group', 'Industry', 'Shares_out', 'EBIT_Margin',\n",
       "       'EBITDA_Margin', 'Profit_Margin', 'Leverage', 'Debt/Assets',\n",
       "       'Cash/Assets', 'ROE', 'P/B', 'P/Sales', 'P/EBITDA', 'P/EBIT', 'P/E'],\n",
       "      dtype='object')"
      ]
     },
     "execution_count": 13,
     "metadata": {},
     "output_type": "execute_result"
    }
   ],
   "source": [
    "raw_data.columns"
   ]
  },
  {
   "cell_type": "code",
   "execution_count": 14,
   "id": "3b62a25d",
   "metadata": {},
   "outputs": [
    {
     "name": "stdout",
     "output_type": "stream",
     "text": [
      "Assets                  0\n",
      "Cash                    0\n",
      "Long-Term Debt          0\n",
      "Invested Capital        0\n",
      "Liabilities             0\n",
      "Net Income              0\n",
      "EBIT                    0\n",
      "EBITDA                  0\n",
      "Revenue                 0\n",
      "Stockholders Equity     0\n",
      "Share_Price             0\n",
      "Div_Per_Share_Ann       0\n",
      "Div_Yield               0\n",
      "Market_Cap              0\n",
      "Beta_1Y                 0\n",
      "Beta_2Y                 0\n",
      "Beta_5Y                 0\n",
      "Rev_1y_Growth           0\n",
      "Rev_2y_Growth           0\n",
      "Shares_out              0\n",
      "EBIT_Margin             0\n",
      "EBITDA_Margin           0\n",
      "Profit_Margin           0\n",
      "Leverage                0\n",
      "Debt/Assets             0\n",
      "Cash/Assets             0\n",
      "ROE                     0\n",
      "P/B                     0\n",
      "P/Sales                 0\n",
      "P/EBITDA                8\n",
      "P/EBIT                  8\n",
      "P/E                    15\n",
      "dtype: int64\n"
     ]
    }
   ],
   "source": [
    "#Analysing infinite values\n",
    "\n",
    "#raw_data = raw_data.applymap(lambda x: np.inf if x == 'inf' else (-np.inf if x == '-inf' else x))\n",
    "#display(raw_data[num_cols])\n",
    "\n",
    "print(raw_data[num_cols].apply(lambda x: np.isinf(x).sum()))"
   ]
  },
  {
   "cell_type": "code",
   "execution_count": 15,
   "id": "2bfadabd",
   "metadata": {},
   "outputs": [
    {
     "data": {
      "text/plain": [
       "62535"
      ]
     },
     "execution_count": 15,
     "metadata": {},
     "output_type": "execute_result"
    }
   ],
   "source": [
    "len(raw_data)"
   ]
  },
  {
   "cell_type": "code",
   "execution_count": 16,
   "id": "737931b4",
   "metadata": {},
   "outputs": [],
   "source": [
    "raw_data[np.isinf(raw_data['EBIT_Margin'])][['Company Name', 'Quarter', 'Revenue', 'EBIT', 'EBITDA', 'EBIT_Margin', 'EBITDA_Margin' , 'P/Sales']].to_clipboard()"
   ]
  },
  {
   "cell_type": "markdown",
   "id": "48ac78e4",
   "metadata": {},
   "source": [
    "Removing outliers"
   ]
  },
  {
   "cell_type": "code",
   "execution_count": 36,
   "id": "76f8b25f",
   "metadata": {},
   "outputs": [
    {
     "data": {
      "text/plain": [
       "Text(0.5, 1.0, 'P/B before outlier reduction')"
      ]
     },
     "execution_count": 36,
     "metadata": {},
     "output_type": "execute_result"
    },
    {
     "data": {
      "image/png": "[encoded data removed]",
      "text/plain": [
       "<Figure size 640x480 with 1 Axes>"
      ]
     },
     "metadata": {},
     "output_type": "display_data"
    }
   ],
   "source": [
    "ax = sns.boxplot(data=raw_data['P/B'], palette=\"crest\")\n",
    "plt.title('P/B before outlier reduction')"
   ]
  },
  {
   "cell_type": "code",
   "execution_count": 41,
   "id": "f4943a92",
   "metadata": {},
   "outputs": [
    {
     "data": {
      "text/plain": [
       "Text(0.5, 1.0, 'EBITDA-Margin (%/100) before outlier reduction')"
      ]
     },
     "execution_count": 41,
     "metadata": {},
     "output_type": "execute_result"
    },
    {
     "data": {
      "image/png": "[encoded data removed]",
      "text/plain": [
       "<Figure size 640x480 with 1 Axes>"
      ]
     },
     "metadata": {},
     "output_type": "display_data"
    }
   ],
   "source": [
    "ax = sns.boxplot(data=raw_data['EBITDA_Margin'], palette=\"crest\")\n",
    "plt.title('EBITDA-Margin (%/100) before outlier reduction')"
   ]
  },
  {
   "cell_type": "code",
   "execution_count": 25,
   "id": "4a8a0392-4d37-485d-b303-10fc264cfd38",
   "metadata": {},
   "outputs": [
    {
     "data": {
      "text/plain": [
       "626"
      ]
     },
     "execution_count": 25,
     "metadata": {},
     "output_type": "execute_result"
    }
   ],
   "source": [
    "len(raw_data[raw_data['P/B'] > raw_data['P/B'].quantile(0.99)].GV_Key)"
   ]
  },
  {
   "cell_type": "code",
   "execution_count": 26,
   "id": "3b870801-ba4f-4fae-a1ca-08a2e68a25d8",
   "metadata": {},
   "outputs": [],
   "source": [
    "raw_data = raw_data.reset_index()"
   ]
  },
  {
   "cell_type": "code",
   "execution_count": 19,
   "id": "a2cfa505",
   "metadata": {},
   "outputs": [],
   "source": [
    "#plotting features before removing outliers"
   ]
  },
  {
   "cell_type": "code",
   "execution_count": 27,
   "id": "a038c7fd-86a4-440b-9eae-78327b867ebf",
   "metadata": {},
   "outputs": [],
   "source": [
    "outliers = []\n",
    "\n",
    "for col in num_cols:\n",
    "    data = raw_data[col]\n",
    "    q_low = data.quantile(0.005)\n",
    "    q_high = data.quantile(0.995)\n",
    "    \n",
    "    try:\n",
    "        raw_data['is_outlier'] = np.where((data > q_high) | (data < q_low) | (raw_data['is_outlier'] == 1),1,0)\n",
    "        \n",
    "    except:\n",
    "        raw_data['is_outlier'] = np.where((data > q_high) | (data < q_low),1,0)\n",
    "    \n",
    "    group = raw_data.groupby(['GV_Key'])['is_outlier'].sum()\n",
    "    for indx, values in group.items():\n",
    "        if values != 0:\n",
    "            outliers.append(indx)\n",
    "    #cleaned_data[col] = cleaned_data[(cleaned_data[col] < q_high) & (cleaned_data[col] > q_low)]"
   ]
  },
  {
   "cell_type": "code",
   "execution_count": 29,
   "id": "d5510661-d0eb-458e-ada1-2a3ffaa40abd",
   "metadata": {},
   "outputs": [
    {
     "data": {
      "text/plain": [
       "1751"
      ]
     },
     "execution_count": 29,
     "metadata": {},
     "output_type": "execute_result"
    }
   ],
   "source": [
    "outliers = list(set(outliers))\n",
    "len(outliers)"
   ]
  },
  {
   "cell_type": "code",
   "execution_count": 30,
   "id": "1c307444-924e-4809-af76-7213856f6ecc",
   "metadata": {},
   "outputs": [],
   "source": [
    "raw_data = raw_data.set_index('GV_Key')"
   ]
  },
  {
   "cell_type": "code",
   "execution_count": 31,
   "id": "2a3a4af0-ef71-455f-a9be-481041d5e348",
   "metadata": {},
   "outputs": [],
   "source": [
    "data_no_outliers = raw_data.drop(outliers, axis = 0)\n",
    "data_no_outliers = data_no_outliers.reset_index()"
   ]
  },
  {
   "cell_type": "code",
   "execution_count": 32,
   "id": "45ff0e99-637d-4127-8142-9faae19aa8db",
   "metadata": {},
   "outputs": [
    {
     "data": {
      "text/plain": [
       "1528"
      ]
     },
     "execution_count": 32,
     "metadata": {},
     "output_type": "execute_result"
    }
   ],
   "source": [
    "len(data_no_outliers.GV_Key.unique().tolist())"
   ]
  },
  {
   "cell_type": "code",
   "execution_count": 33,
   "id": "4b8d7bd4-e40a-4c98-bf43-84608797bfb8",
   "metadata": {},
   "outputs": [
    {
     "data": {
      "text/html": [
       "<div>\n",
       "<style scoped>\n",
       "    .dataframe tbody tr th:only-of-type {\n",
       "        vertical-align: middle;\n",
       "    }\n",
       "\n",
       "    .dataframe tbody tr th {\n",
       "        vertical-align: top;\n",
       "    }\n",
       "\n",
       "    .dataframe thead th {\n",
       "        text-align: right;\n",
       "    }\n",
       "</style>\n",
       "<table border=\"1\" class=\"dataframe\">\n",
       "  <thead>\n",
       "    <tr style=\"text-align: right;\">\n",
       "      <th></th>\n",
       "      <th>P/B</th>\n",
       "      <th>P/E</th>\n",
       "    </tr>\n",
       "  </thead>\n",
       "  <tbody>\n",
       "    <tr>\n",
       "      <th>count</th>\n",
       "      <td>29411.000000</td>\n",
       "      <td>29411.000000</td>\n",
       "    </tr>\n",
       "    <tr>\n",
       "      <th>mean</th>\n",
       "      <td>3.709869</td>\n",
       "      <td>65.134023</td>\n",
       "    </tr>\n",
       "    <tr>\n",
       "      <th>std</th>\n",
       "      <td>5.087519</td>\n",
       "      <td>456.383498</td>\n",
       "    </tr>\n",
       "    <tr>\n",
       "      <th>min</th>\n",
       "      <td>-48.688559</td>\n",
       "      <td>-7163.023975</td>\n",
       "    </tr>\n",
       "    <tr>\n",
       "      <th>25%</th>\n",
       "      <td>1.431484</td>\n",
       "      <td>11.427967</td>\n",
       "    </tr>\n",
       "    <tr>\n",
       "      <th>50%</th>\n",
       "      <td>2.470959</td>\n",
       "      <td>55.273896</td>\n",
       "    </tr>\n",
       "    <tr>\n",
       "      <th>75%</th>\n",
       "      <td>4.341066</td>\n",
       "      <td>105.856334</td>\n",
       "    </tr>\n",
       "    <tr>\n",
       "      <th>max</th>\n",
       "      <td>89.511395</td>\n",
       "      <td>9599.953275</td>\n",
       "    </tr>\n",
       "  </tbody>\n",
       "</table>\n",
       "</div>"
      ],
      "text/plain": [
       "                P/B           P/E\n",
       "count  29411.000000  29411.000000\n",
       "mean       3.709869     65.134023\n",
       "std        5.087519    456.383498\n",
       "min      -48.688559  -7163.023975\n",
       "25%        1.431484     11.427967\n",
       "50%        2.470959     55.273896\n",
       "75%        4.341066    105.856334\n",
       "max       89.511395   9599.953275"
      ]
     },
     "execution_count": 33,
     "metadata": {},
     "output_type": "execute_result"
    }
   ],
   "source": [
    "data_no_outliers[['P/B', 'P/E']].describe()"
   ]
  },
  {
   "cell_type": "code",
   "execution_count": 42,
   "id": "7ed57db1",
   "metadata": {},
   "outputs": [
    {
     "data": {
      "text/plain": [
       "Text(0.5, 1.0, 'P/B after outlier reduction')"
      ]
     },
     "execution_count": 42,
     "metadata": {},
     "output_type": "execute_result"
    },
    {
     "data": {
      "image/png": "[encoded data removed]",
      "text/plain": [
       "<Figure size 640x480 with 1 Axes>"
      ]
     },
     "metadata": {},
     "output_type": "display_data"
    }
   ],
   "source": [
    "plot_data_no_outliers = data_no_outliers[(data_no_outliers['P/B'] <= data_no_outliers['P/B'].quantile(0.99)) \n",
    "                                        & (data_no_outliers['P/B'] >= data_no_outliers['P/B'].quantile(0.01))]\n",
    "\n",
    "ax = sns.boxplot(data=plot_data_no_outliers['P/B'], palette=\"crest\")\n",
    "plt.title('P/B after outlier reduction')"
   ]
  },
  {
   "cell_type": "code",
   "execution_count": 44,
   "id": "1f3bd6e2",
   "metadata": {},
   "outputs": [
    {
     "data": {
      "text/plain": [
       "Text(0.5, 1.0, 'EBITDA-Margin (%/100) after outlier reduction')"
      ]
     },
     "execution_count": 44,
     "metadata": {},
     "output_type": "execute_result"
    },
    {
     "data": {
      "image/png": "[encoded data removed]",
      "text/plain": [
       "<Figure size 640x480 with 1 Axes>"
      ]
     },
     "metadata": {},
     "output_type": "display_data"
    }
   ],
   "source": [
    "plot_data_no_outliers = data_no_outliers[(data_no_outliers['EBITDA_Margin'] <= data_no_outliers['EBITDA_Margin'].quantile(0.99)) \n",
    "                                        & (data_no_outliers['EBITDA_Margin'] >= data_no_outliers['EBITDA_Margin'].quantile(0.01))]\n",
    "\n",
    "ax = sns.boxplot(data=plot_data_no_outliers['EBITDA_Margin'], palette=\"crest\")\n",
    "plt.title('EBITDA-Margin (%/100) after outlier reduction')"
   ]
  },
  {
   "cell_type": "code",
   "execution_count": 46,
   "id": "97fb3220-5f7a-4be7-968e-4747ac2d1c30",
   "metadata": {},
   "outputs": [],
   "source": [
    "#raw_data[raw_data['P/B'] == raw_data['P/B'].max()].to_clipboard()"
   ]
  },
  {
   "cell_type": "code",
   "execution_count": 47,
   "id": "d8425604-0172-4501-ac28-da7fedeca097",
   "metadata": {},
   "outputs": [],
   "source": [
    "#raw_data.groupby(['GV_Key'])['is_outlier'].sum().reset_index().sort_values(by='is_outlier', ascending=False)"
   ]
  },
  {
   "cell_type": "code",
   "execution_count": 48,
   "id": "92364fd5-0623-429e-934e-8b99b463143b",
   "metadata": {},
   "outputs": [
    {
     "data": {
      "text/plain": [
       "295"
      ]
     },
     "execution_count": 48,
     "metadata": {},
     "output_type": "execute_result"
    }
   ],
   "source": [
    "#number of outliers (99% quantile)\n",
    "len(data_no_outliers[data_no_outliers['P/B'] > data_no_outliers['P/B'].quantile(0.99)].GV_Key)"
   ]
  },
  {
   "cell_type": "code",
   "execution_count": 49,
   "id": "a8c1ee76-b124-44d6-9990-ba349f634502",
   "metadata": {},
   "outputs": [
    {
     "data": {
      "image/png": "[encoded data removed]",
      "text/plain": [
       "<Figure size 800x600 with 1 Axes>"
      ]
     },
     "metadata": {},
     "output_type": "display_data"
    }
   ],
   "source": [
    "#plot P/B distribution\n",
    "plt.figure(figsize=(8, 6))\n",
    "plt.hist(data_no_outliers[data_no_outliers.Quarter == '2022Q4']['P/B'], bins=50, edgecolor='k', alpha=0.7)\n",
    "plt.xlabel('P/B')\n",
    "plt.ylabel('Frequency')\n",
    "plt.title('Distribution of P/B')\n",
    "plt.grid(True)\n",
    "plt.show()"
   ]
  },
  {
   "cell_type": "code",
   "execution_count": 50,
   "id": "46091044-7fc7-4e11-b456-2796ba37735b",
   "metadata": {},
   "outputs": [
    {
     "data": {
      "text/html": [
       "<div>\n",
       "<style scoped>\n",
       "    .dataframe tbody tr th:only-of-type {\n",
       "        vertical-align: middle;\n",
       "    }\n",
       "\n",
       "    .dataframe tbody tr th {\n",
       "        vertical-align: top;\n",
       "    }\n",
       "\n",
       "    .dataframe thead th {\n",
       "        text-align: right;\n",
       "    }\n",
       "</style>\n",
       "<table border=\"1\" class=\"dataframe\">\n",
       "  <thead>\n",
       "    <tr style=\"text-align: right;\">\n",
       "      <th></th>\n",
       "      <th>GV_Key</th>\n",
       "      <th>Quarter</th>\n",
       "    </tr>\n",
       "  </thead>\n",
       "  <tbody>\n",
       "    <tr>\n",
       "      <th>count</th>\n",
       "      <td>29411</td>\n",
       "      <td>29411</td>\n",
       "    </tr>\n",
       "    <tr>\n",
       "      <th>unique</th>\n",
       "      <td>1528</td>\n",
       "      <td>24</td>\n",
       "    </tr>\n",
       "    <tr>\n",
       "      <th>top</th>\n",
       "      <td>GV_001076</td>\n",
       "      <td>2022Q3</td>\n",
       "    </tr>\n",
       "    <tr>\n",
       "      <th>freq</th>\n",
       "      <td>24</td>\n",
       "      <td>1490</td>\n",
       "    </tr>\n",
       "  </tbody>\n",
       "</table>\n",
       "</div>"
      ],
      "text/plain": [
       "           GV_Key Quarter\n",
       "count       29411   29411\n",
       "unique       1528      24\n",
       "top     GV_001076  2022Q3\n",
       "freq           24    1490"
      ]
     },
     "execution_count": 50,
     "metadata": {},
     "output_type": "execute_result"
    }
   ],
   "source": [
    "data_995 = data_no_outliers\n",
    "data_995[['GV_Key', 'Quarter']].describe()"
   ]
  },
  {
   "cell_type": "code",
   "execution_count": 51,
   "id": "d13897f7-fc00-4f76-a140-07232dc6898a",
   "metadata": {},
   "outputs": [
    {
     "name": "stdout",
     "output_type": "stream",
     "text": [
      "<class 'pandas.core.frame.DataFrame'>\n",
      "RangeIndex: 29411 entries, 0 to 29410\n",
      "Data columns (total 48 columns):\n",
      " #   Column                        Non-Null Count  Dtype         \n",
      "---  ------                        --------------  -----         \n",
      " 0   GV_Key                        29411 non-null  object        \n",
      " 1   index                         29411 non-null  int64         \n",
      " 2   Date_cal                      29411 non-null  datetime64[ns]\n",
      " 3   Ticker Symbol                 29411 non-null  object        \n",
      " 4   Company Name                  29411 non-null  object        \n",
      " 5   Quarter                       29411 non-null  object        \n",
      " 6   Fiscal Data Year and Quarter  29409 non-null  object        \n",
      " 7   Final Date                    29409 non-null  datetime64[ns]\n",
      " 8   Date_rep                      29411 non-null  datetime64[ns]\n",
      " 9   Assets                        29411 non-null  float64       \n",
      " 10  Cash                          29411 non-null  float64       \n",
      " 11  Long-Term Debt                29411 non-null  float64       \n",
      " 12  Invested Capital              29411 non-null  float64       \n",
      " 13  Liabilities                   29411 non-null  float64       \n",
      " 14  Net Income                    29411 non-null  float64       \n",
      " 15  EBIT                          29411 non-null  float64       \n",
      " 16  EBITDA                        29411 non-null  float64       \n",
      " 17  Revenue                       29411 non-null  float64       \n",
      " 18  Stockholders Equity           29411 non-null  float64       \n",
      " 19  HQ                            29411 non-null  object        \n",
      " 20  Share_Price                   29411 non-null  float64       \n",
      " 21  Share_Price_BD                29411 non-null  float64       \n",
      " 22  Div_Per_Share_Ann             29411 non-null  float64       \n",
      " 23  Div_Yield                     29411 non-null  float64       \n",
      " 24  Market_Cap                    29411 non-null  float64       \n",
      " 25  Beta_1Y                       29411 non-null  float64       \n",
      " 26  Beta_2Y                       29411 non-null  float64       \n",
      " 27  Beta_5Y                       29411 non-null  float64       \n",
      " 28  Rev_1y_Growth                 29410 non-null  float64       \n",
      " 29  Rev_2y_Growth                 29409 non-null  float64       \n",
      " 30  Primary Industry              29411 non-null  object        \n",
      " 31  Industry Sector               29411 non-null  object        \n",
      " 32  Industry Group                29411 non-null  object        \n",
      " 33  Industry                      29411 non-null  object        \n",
      " 34  Shares_out                    29411 non-null  float64       \n",
      " 35  EBIT_Margin                   29411 non-null  float64       \n",
      " 36  EBITDA_Margin                 29411 non-null  float64       \n",
      " 37  Profit_Margin                 29411 non-null  float64       \n",
      " 38  Leverage                      29411 non-null  float64       \n",
      " 39  Debt/Assets                   29411 non-null  float64       \n",
      " 40  Cash/Assets                   29411 non-null  float64       \n",
      " 41  ROE                           29411 non-null  float64       \n",
      " 42  P/B                           29411 non-null  float64       \n",
      " 43  P/Sales                       29411 non-null  float64       \n",
      " 44  P/EBITDA                      29411 non-null  float64       \n",
      " 45  P/EBIT                        29411 non-null  float64       \n",
      " 46  P/E                           29411 non-null  float64       \n",
      " 47  is_outlier                    29411 non-null  int32         \n",
      "dtypes: datetime64[ns](3), float64(33), int32(1), int64(1), object(10)\n",
      "memory usage: 10.7+ MB\n"
     ]
    }
   ],
   "source": [
    "data_995.info()"
   ]
  },
  {
   "cell_type": "code",
   "execution_count": 52,
   "id": "ff3ebfb2-6b79-4190-94cd-cf5a6d43f201",
   "metadata": {},
   "outputs": [],
   "source": [
    "#data_995.to_clipboard()"
   ]
  },
  {
   "cell_type": "code",
   "execution_count": 53,
   "id": "390221ee-3dfd-4174-a7f9-3eacfc40cb22",
   "metadata": {},
   "outputs": [],
   "source": [
    "#data_995.to_excel(\"feature_matrix_995.xlsx\")\n",
    "#data_99.to_excel(r\"C:\\Users\\Dani\\Dropbox\\Mein PC (dimotion-PC)\\Documents\\BA_data\\Feature Matrix\\feature_matrix_99.xlsx\")"
   ]
  },
  {
   "cell_type": "markdown",
   "id": "170e8ad3-d53f-4fe3-af7e-79f6a5be6e60",
   "metadata": {
    "jp-MarkdownHeadingCollapsed": true,
    "tags": []
   },
   "source": [
    "## Attempt of interpolation"
   ]
  },
  {
   "cell_type": "code",
   "execution_count": 163,
   "id": "11060797-f494-4386-aa97-51fc80143d8a",
   "metadata": {},
   "outputs": [],
   "source": [
    "#interpolate growth rates\n",
    "#data_995.reset_index(inplace = True)\n",
    "indices_to_interpolate = data_995[data_995.Rev_1y_Growth.isna() | data_995.Rev_2y_Growth.isna()].GV_Key"
   ]
  },
  {
   "cell_type": "code",
   "execution_count": 164,
   "id": "000df0c9-bc76-4b05-99d6-a8d7b3646b98",
   "metadata": {},
   "outputs": [
    {
     "data": {
      "text/plain": [
       "4383     GV_007938\n",
       "4387     GV_007938\n",
       "4391     GV_007938\n",
       "7657     GV_012719\n",
       "7658     GV_012719\n",
       "7662     GV_012719\n",
       "7665     GV_012719\n",
       "7666     GV_012719\n",
       "14156    GV_027251\n",
       "15988    GV_030098\n",
       "15992    GV_030098\n",
       "18422    GV_035053\n",
       "18426    GV_035053\n",
       "18798    GV_035552\n",
       "18799    GV_035552\n",
       "18802    GV_035552\n",
       "18803    GV_035552\n",
       "18806    GV_035552\n",
       "18807    GV_035552\n",
       "19424    GV_036776\n",
       "20401    GV_038632\n",
       "23718    GV_065009\n",
       "25131    GV_116772\n",
       "25132    GV_116772\n",
       "25133    GV_116772\n",
       "Name: GV_Key, dtype: object"
      ]
     },
     "execution_count": 164,
     "metadata": {},
     "output_type": "execute_result"
    }
   ],
   "source": [
    "indices_to_interpolate"
   ]
  },
  {
   "cell_type": "code",
   "execution_count": 173,
   "id": "158a8de1-3a75-4924-8c62-ddc12f700ace",
   "metadata": {},
   "outputs": [
    {
     "data": {
      "text/plain": [
       "4383     GV_007938\n",
       "4384     GV_007938\n",
       "4385     GV_007938\n",
       "4386     GV_007938\n",
       "4387     GV_007938\n",
       "           ...    \n",
       "25150    GV_116772\n",
       "25151    GV_116772\n",
       "25152    GV_116772\n",
       "25153    GV_116772\n",
       "25154    GV_116772\n",
       "Name: GV_Key, Length: 166, dtype: object"
      ]
     },
     "execution_count": 173,
     "metadata": {},
     "output_type": "execute_result"
    }
   ],
   "source": [
    "data_995.GV_Key[data_995.GV_Key.isin(list(indices_to_interpolate))]"
   ]
  },
  {
   "cell_type": "code",
   "execution_count": 177,
   "id": "4e386f0e-3f5b-4be0-b3c2-e204831d230e",
   "metadata": {},
   "outputs": [],
   "source": [
    "def interpolate_category(category_df, method='linear', col = col):\n",
    "    # Interpolate only for rows with NaN values in the 'Value' column\n",
    "    category_df[col] = category_df[col].interpolate(method=method)\n",
    "    return category_df\n",
    "\n",
    "companies_to_interpolate = data_995.GV_Key[data_995.GV_Key.isin(list(set(indices_to_interpolate)))]\n",
    "interpolated_dfs = []\n",
    "\n",
    "for company in companies_to_interpolate:\n",
    "    company_df = data_995[data_995.GV_Key == company].copy()\n",
    "    company_df = interpolate_category(company_df, col = 'Rev_1y_Growth')\n",
    "    interpolated_dfs.append(company_df)\n",
    "    \n"
   ]
  },
  {
   "cell_type": "code",
   "execution_count": 180,
   "id": "34577d09-07ae-4cb0-90fb-ff2f6ba9d4c9",
   "metadata": {},
   "outputs": [],
   "source": [
    "data_interpol = pd.concat(interpolated_dfs, ignore_index = True)"
   ]
  },
  {
   "cell_type": "code",
   "execution_count": 182,
   "id": "381e3827-0d62-4b56-9e40-0d3b9ec8d2b1",
   "metadata": {},
   "outputs": [],
   "source": [
    "data_interpol.to_clipboard()"
   ]
  },
  {
   "cell_type": "code",
   "execution_count": 151,
   "id": "4cd9ed4a-27c1-49ca-92b1-edcb35e6c993",
   "metadata": {},
   "outputs": [
    {
     "name": "stderr",
     "output_type": "stream",
     "text": [
      "C:\\Users\\Dani\\AppData\\Local\\Temp\\ipykernel_19016\\3615325366.py:3: SettingWithCopyWarning: \n",
      "A value is trying to be set on a copy of a slice from a DataFrame\n",
      "\n",
      "See the caveats in the documentation: https://pandas.pydata.org/pandas-docs/stable/user_guide/indexing.html#returning-a-view-versus-a-copy\n",
      "  data_995[data_995.GV_Key == i].Rev_1y_Growth.fillna(method = 'ffill', inplace = True)\n"
     ]
    }
   ],
   "source": [
    "for col in ['Rev_1y_Growth', 'Rev_2y_Growth']:\n",
    "    for i in list(set(indices_to_interpolate)):\n",
    "        data_995[data_995.GV_Key == i].Rev_1y_Growth.fillna(method = 'ffill', inplace = True)"
   ]
  },
  {
   "cell_type": "code",
   "execution_count": 152,
   "id": "d9a62196-095b-43e7-89df-ef18f279d12a",
   "metadata": {},
   "outputs": [
    {
     "data": {
      "text/plain": [
       "4383         NaN\n",
       "4384   -0.802929\n",
       "4385   -0.721610\n",
       "4386   -0.056743\n",
       "4387         NaN\n",
       "4388   -0.007415\n",
       "4389    0.184419\n",
       "4390    0.292017\n",
       "4391    0.339846\n",
       "4392    0.341553\n",
       "4393    0.247218\n",
       "4394    0.041477\n",
       "4395   -0.039752\n",
       "4396   -0.127700\n",
       "4397   -0.136337\n",
       "4398   -0.089071\n",
       "4399   -0.019086\n",
       "4400    0.104828\n",
       "4401    0.254469\n",
       "4402    0.493755\n",
       "4403    0.484726\n",
       "4404    0.483514\n",
       "4405    0.370187\n",
       "4406    0.259963\n",
       "Name: Rev_1y_Growth, dtype: float64"
      ]
     },
     "execution_count": 152,
     "metadata": {},
     "output_type": "execute_result"
    }
   ],
   "source": [
    "data_995[data_995.GV_Key == 'GV_007938'].Rev_1y_Growth"
   ]
  },
  {
   "cell_type": "code",
   "execution_count": 150,
   "id": "1dfa3afb-d40d-43ca-af71-f46e328a8875",
   "metadata": {},
   "outputs": [],
   "source": [
    "data_995.to_clipboard()"
   ]
  },
  {
   "cell_type": "code",
   "execution_count": null,
   "id": "bc3a42be-42d0-4da7-b977-733016e0d549",
   "metadata": {},
   "outputs": [],
   "source": []
  }
 ],
 "metadata": {
  "kernelspec": {
   "display_name": "pythonProject",
   "language": "python",
   "name": "python3"
  },
  "language_info": {
   "codemirror_mode": {
    "name": "ipython",
    "version": 3
   },
   "file_extension": ".py",
   "mimetype": "text/x-python",
   "name": "python",
   "nbconvert_exporter": "python",
   "pygments_lexer": "ipython3",
   "version": "3.10.13"
  }
 },
 "nbformat": 4,
 "nbformat_minor": 5
}
